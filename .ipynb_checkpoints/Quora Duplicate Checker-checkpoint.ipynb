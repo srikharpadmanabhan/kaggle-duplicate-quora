{
 "cells": [
  {
   "cell_type": "markdown",
   "metadata": {},
   "source": [
    "# Quora Question Pairs Duplicate Check through Weights"
   ]
  },
  {
   "cell_type": "markdown",
   "metadata": {},
   "source": [
    "Import pandas for reading in csv file, numpy for math operations."
   ]
  },
  {
   "cell_type": "code",
   "execution_count": 447,
   "metadata": {},
   "outputs": [],
   "source": [
    "import pandas as pd\n",
    "import numpy as np\n"
   ]
  },
  {
   "cell_type": "markdown",
   "metadata": {},
   "source": [
    "### Read in CSV file"
   ]
  },
  {
   "cell_type": "code",
   "execution_count": 448,
   "metadata": {},
   "outputs": [],
   "source": [
    "training_set= pd.read_csv('/Users/srikharpadmanabhan/Documents/machine-learninig-quora/quora-question-pairs/train.csv')\n",
    "test_set=pd.read_csv('/Users/srikharpadmanabhan/Documents/machine-learninig-quora/quora-question-pairs/test.csv')"
   ]
  },
  {
   "cell_type": "markdown",
   "metadata": {},
   "source": [
    "Check to make sure training_set is read in correctly"
   ]
  },
  {
   "cell_type": "code",
   "execution_count": 449,
   "metadata": {},
   "outputs": [
    {
     "data": {
      "text/html": [
       "<div>\n",
       "<style scoped>\n",
       "    .dataframe tbody tr th:only-of-type {\n",
       "        vertical-align: middle;\n",
       "    }\n",
       "\n",
       "    .dataframe tbody tr th {\n",
       "        vertical-align: top;\n",
       "    }\n",
       "\n",
       "    .dataframe thead th {\n",
       "        text-align: right;\n",
       "    }\n",
       "</style>\n",
       "<table border=\"1\" class=\"dataframe\">\n",
       "  <thead>\n",
       "    <tr style=\"text-align: right;\">\n",
       "      <th></th>\n",
       "      <th>id</th>\n",
       "      <th>qid1</th>\n",
       "      <th>qid2</th>\n",
       "      <th>question1</th>\n",
       "      <th>question2</th>\n",
       "      <th>is_duplicate</th>\n",
       "    </tr>\n",
       "  </thead>\n",
       "  <tbody>\n",
       "    <tr>\n",
       "      <td>0</td>\n",
       "      <td>0</td>\n",
       "      <td>1</td>\n",
       "      <td>2</td>\n",
       "      <td>What is the step by step guide to invest in sh...</td>\n",
       "      <td>What is the step by step guide to invest in sh...</td>\n",
       "      <td>0</td>\n",
       "    </tr>\n",
       "    <tr>\n",
       "      <td>1</td>\n",
       "      <td>1</td>\n",
       "      <td>3</td>\n",
       "      <td>4</td>\n",
       "      <td>What is the story of Kohinoor (Koh-i-Noor) Dia...</td>\n",
       "      <td>What would happen if the Indian government sto...</td>\n",
       "      <td>0</td>\n",
       "    </tr>\n",
       "    <tr>\n",
       "      <td>2</td>\n",
       "      <td>2</td>\n",
       "      <td>5</td>\n",
       "      <td>6</td>\n",
       "      <td>How can I increase the speed of my internet co...</td>\n",
       "      <td>How can Internet speed be increased by hacking...</td>\n",
       "      <td>0</td>\n",
       "    </tr>\n",
       "  </tbody>\n",
       "</table>\n",
       "</div>"
      ],
      "text/plain": [
       "   id  qid1  qid2                                          question1  \\\n",
       "0   0     1     2  What is the step by step guide to invest in sh...   \n",
       "1   1     3     4  What is the story of Kohinoor (Koh-i-Noor) Dia...   \n",
       "2   2     5     6  How can I increase the speed of my internet co...   \n",
       "\n",
       "                                           question2  is_duplicate  \n",
       "0  What is the step by step guide to invest in sh...             0  \n",
       "1  What would happen if the Indian government sto...             0  \n",
       "2  How can Internet speed be increased by hacking...             0  "
      ]
     },
     "execution_count": 449,
     "metadata": {},
     "output_type": "execute_result"
    }
   ],
   "source": [
    "training_set.head(3)"
   ]
  },
  {
   "cell_type": "markdown",
   "metadata": {},
   "source": [
    "### Take just the questions from training_set"
   ]
  },
  {
   "cell_type": "code",
   "execution_count": 450,
   "metadata": {},
   "outputs": [
    {
     "data": {
      "text/html": [
       "<div>\n",
       "<style scoped>\n",
       "    .dataframe tbody tr th:only-of-type {\n",
       "        vertical-align: middle;\n",
       "    }\n",
       "\n",
       "    .dataframe tbody tr th {\n",
       "        vertical-align: top;\n",
       "    }\n",
       "\n",
       "    .dataframe thead th {\n",
       "        text-align: right;\n",
       "    }\n",
       "</style>\n",
       "<table border=\"1\" class=\"dataframe\">\n",
       "  <thead>\n",
       "    <tr style=\"text-align: right;\">\n",
       "      <th></th>\n",
       "      <th>question1</th>\n",
       "      <th>question2</th>\n",
       "    </tr>\n",
       "  </thead>\n",
       "  <tbody>\n",
       "    <tr>\n",
       "      <td>0</td>\n",
       "      <td>What is the step by step guide to invest in sh...</td>\n",
       "      <td>What is the step by step guide to invest in sh...</td>\n",
       "    </tr>\n",
       "    <tr>\n",
       "      <td>1</td>\n",
       "      <td>What is the story of Kohinoor (Koh-i-Noor) Dia...</td>\n",
       "      <td>What would happen if the Indian government sto...</td>\n",
       "    </tr>\n",
       "    <tr>\n",
       "      <td>2</td>\n",
       "      <td>How can I increase the speed of my internet co...</td>\n",
       "      <td>How can Internet speed be increased by hacking...</td>\n",
       "    </tr>\n",
       "  </tbody>\n",
       "</table>\n",
       "</div>"
      ],
      "text/plain": [
       "                                           question1  \\\n",
       "0  What is the step by step guide to invest in sh...   \n",
       "1  What is the story of Kohinoor (Koh-i-Noor) Dia...   \n",
       "2  How can I increase the speed of my internet co...   \n",
       "\n",
       "                                           question2  \n",
       "0  What is the step by step guide to invest in sh...  \n",
       "1  What would happen if the Indian government sto...  \n",
       "2  How can Internet speed be increased by hacking...  "
      ]
     },
     "execution_count": 450,
     "metadata": {},
     "output_type": "execute_result"
    }
   ],
   "source": [
    "#create a dataframe in the same order with just the questions\n",
    "training_questions=training_set[['question1','question2']]\n",
    "#training_set.head(3)\n",
    "training_questions.head(3)"
   ]
  },
  {
   "cell_type": "code",
   "execution_count": 451,
   "metadata": {},
   "outputs": [
    {
     "data": {
      "text/plain": [
       "0         What is the step by step guide to invest in sh...\n",
       "1         What is the story of Kohinoor (Koh-i-Noor) Dia...\n",
       "2         How can I increase the speed of my internet co...\n",
       "3         Why am I mentally very lonely? How can I solve...\n",
       "4         Which one dissolve in water quikly sugar, salt...\n",
       "                                ...                        \n",
       "808575    How many keywords are there in PERL Programmin...\n",
       "808576           Is it true that there is life after death?\n",
       "808577                                    What's this coin?\n",
       "808578    I am having little hairfall problem but I want...\n",
       "808579        What is it like to have sex with your cousin?\n",
       "Length: 808580, dtype: object"
      ]
     },
     "execution_count": 451,
     "metadata": {},
     "output_type": "execute_result"
    }
   ],
   "source": [
    "# Make a list of all questions regardless of duplicity\n",
    "train_questions_list=pd.Series(training_questions['question1'].tolist()+training_questions['question2'].tolist()).astype(str)\n",
    "\n",
    "#replace all punctuation (good=good?)\n",
    "train_questions_list.str.replace('?',' ')\n",
    "train_questions_list.str.replace('.',' ')\n",
    "train_questions_list.str.replace('!',' ')\n",
    "train_questions_list.str.replace('(',' ')\n",
    "train_questions_list.str.replace(')',' ')\n",
    "train_questions_list.str.replace('[',' ')\n",
    "train_questions_list.str.replace(']',' ')\n",
    "train_questions_list.str.replace('-',' ')\n",
    "train_questions_list.str.replace('_',' ')\n",
    "train_questions_list.str.replace('/',' ')\n",
    "train_questions_list.str.replace('#',' ')\n",
    "train_questions_list.str.replace('$',' ')\n",
    "\n",
    "\n"
   ]
  },
  {
   "cell_type": "code",
   "execution_count": 452,
   "metadata": {},
   "outputs": [],
   "source": [
    "from collections import Counter\n",
    "from nltk.corpus import stopwords\n",
    "\n",
    "#define a way to determine weights\n",
    "def set_weights(count,min_count):\n",
    "    if(count < min_count ):\n",
    "        #misspellings\n",
    "        return 0\n",
    "    else:\n",
    "        #\n",
    "        return 1/(count+5000)\n",
    "\n",
    "#split all questions into lowercase words\n",
    "word_collection=(\" \".join(train_questions_list)).lower().split()\n",
    "\n",
    "#count all words \n",
    "counts=Counter(word_collection)\n",
    "\n",
    "#define a dictionary to set weights to each word\n",
    "weights={word: set_weights(count,3) for word, count in counts.items()}"
   ]
  },
  {
   "cell_type": "markdown",
   "metadata": {},
   "source": [
    "Define a function that return the compatiblity of the two questions. Exclude words that are common in english."
   ]
  },
  {
   "cell_type": "code",
   "execution_count": 453,
   "metadata": {},
   "outputs": [],
   "source": [
    "def question_word_match(row):\n",
    "    common_words=set(stopwords.words(\"english\"))\n",
    "    question1_words = {}\n",
    "    question2_words = {}\n",
    "    for word in str(row['question1']).lower().split():\n",
    "        if word not in common_words:\n",
    "            question1_words[word] = 1\n",
    "    for word in str(row['question2']).lower().split():\n",
    "        if word not in common_words:\n",
    "            question2_words[word] = 1\n",
    "            \n",
    "    #empty questions or questions full of articles and common words\n",
    "    if len(question1_words) == 0 or len(question2_words) == 0:\n",
    "        return 0\n",
    "    \n",
    "    \n",
    "    shared_weights = [weights.get(w, 0) for w in question1_words.keys() if w in question2_words]\n",
    "    total_weights = [weights.get(w, 0) for w in question1_words] + [weights.get(w, 0) for w in question2_words]\n",
    "    \n",
    "    matchability = 2*np.sum(shared_weights)/np.sum(total_weights)\n",
    "    \n",
    "    #redundant if needed to stop warning\n",
    "    if np.sum(total_weights)==0:\n",
    "        return 0\n",
    "    else:\n",
    "        return matchability"
   ]
  },
  {
   "cell_type": "code",
   "execution_count": 454,
   "metadata": {},
   "outputs": [
    {
     "name": "stderr",
     "output_type": "stream",
     "text": [
      "/Users/srikharpadmanabhan/opt/anaconda3/lib/python3.7/site-packages/ipykernel_launcher.py:20: RuntimeWarning: invalid value encountered in long_scalars\n",
      "/Users/srikharpadmanabhan/opt/anaconda3/lib/python3.7/site-packages/ipykernel_launcher.py:20: RuntimeWarning: invalid value encountered in double_scalars\n"
     ]
    },
    {
     "name": "stdout",
     "output_type": "stream",
     "text": [
      "0.3650502257603887\n"
     ]
    }
   ],
   "source": [
    "from sklearn import metrics\n",
    "from sklearn.metrics import roc_auc_score\n",
    "from sklearn.metrics import accuracy_score\n",
    "from sklearn.metrics import f1_score\n",
    "\n",
    "\n",
    "#get the data needed to plot the ROC Curve\n",
    "train_word_match=training_set.apply(question_word_match, axis=1, raw=True)\n",
    "fpr, tpr, thresholds = metrics.roc_curve(training_set['is_duplicate'], train_word_match, pos_label=1)\n",
    "\n",
    "# find the threshold that gets a tpr close to 0.8\n",
    "idx = (np.abs(tpr - 0.8)).argmin()\n",
    "print(thresholds[idx])"
   ]
  },
  {
   "cell_type": "code",
   "execution_count": 455,
   "metadata": {
    "scrolled": true
   },
   "outputs": [
    {
     "data": {
      "image/png": "[encoded data removed]",
      "text/plain": [
       "<Figure size 432x288 with 1 Axes>"
      ]
     },
     "metadata": {
      "needs_background": "light"
     },
     "output_type": "display_data"
    }
   ],
   "source": [
    "label_curve='ROC curve (area = ' +str(roc_auc_score(training_set['is_duplicate'], train_word_match))\n",
    "plt.plot(fpr,tpr,color='blue',label=label_curve)\n",
    "plt.xlabel('False Positive Rate')\n",
    "plt.ylabel('True Positive Rate')\n",
    "plt.title('ROC Curve: Weighted Words')\n",
    "plt.legend(loc=\"lower right\")\n",
    "plt.fill_between(fpr,tpr,color='navajowhite')\n",
    "plt.savefig('ROC_CURVE_WEIGHTED_WORD.jpeg')\n",
    "plt.show()"
   ]
  },
  {
   "cell_type": "code",
   "execution_count": 456,
   "metadata": {},
   "outputs": [
    {
     "data": {
      "image/png": "[encoded data removed]",
      "text/plain": [
       "<Figure size 432x288 with 1 Axes>"
      ]
     },
     "metadata": {
      "needs_background": "light"
     },
     "output_type": "display_data"
    }
   ],
   "source": [
    "from sklearn.metrics import precision_recall_curve\n",
    "from sklearn.metrics import average_precision_score\n",
    "\n",
    "#get data for plotting precision recall graph\n",
    "precision, recall, thresholds = precision_recall_curve(training_set['is_duplicate'], train_word_match)\n",
    "label_curve='Precision-Recall Curve (area = ' +str(average_precision_score(training_set['is_duplicate'], train_word_match))\n",
    "plt.plot(recall,precision,color='blue',label=label_curve)\n",
    "plt.xlim([0.05, 1])\n",
    "plt.xlabel('Recall')\n",
    "plt.ylabel('Precision')\n",
    "plt.legend(loc=\"lower right\")\n",
    "plt.title('Precision-Recall Curve')\n",
    "plt.fill_between(recall,precision,color='navajowhite')\n",
    "plt.savefig('precision-recall-curve.jpeg')\n",
    "plt.show()\n",
    "                                                       "
   ]
  },
  {
   "cell_type": "code",
   "execution_count": null,
   "metadata": {},
   "outputs": [
    {
     "name": "stderr",
     "output_type": "stream",
     "text": [
      "/Users/srikharpadmanabhan/opt/anaconda3/lib/python3.7/site-packages/ipykernel_launcher.py:28: RuntimeWarning: invalid value encountered in double_scalars\n",
      "/Users/srikharpadmanabhan/opt/anaconda3/lib/python3.7/site-packages/ipykernel_launcher.py:28: RuntimeWarning: invalid value encountered in long_scalars\n"
     ]
    },
    {
     "name": "stdout",
     "output_type": "stream",
     "text": [
      "loop one\n",
      "loop one\n"
     ]
    }
   ],
   "source": [
    "from sklearn.model_selection import KFold\n",
    "from sklearn.model_selection import train_test_split\n",
    "\n",
    "#split the data into train and test\n",
    "X_train, X_test,y_train,y_test = train_test_split(training_set.loc[:,training_set.columns!='is_duplicate'],training_set['is_duplicate'],test_size=0.2)\n",
    "n_folds=6\n",
    "kfold = KFold(n_folds, True, 1)\n",
    "accuracy_scores=[]\n",
    "f1_scores=[]\n",
    "\n",
    "def question_word_match_validation(row):\n",
    "    common_words=set(stopwords.words(\"english\"))\n",
    "    question1_words = {}\n",
    "    question2_words = {}\n",
    "    for word in str(row['question1']).lower().split():\n",
    "        if word not in common_words:\n",
    "            question1_words[word] = 1\n",
    "    for word in str(row['question2']).lower().split():\n",
    "        if word not in common_words:\n",
    "            question2_words[word] = 1\n",
    "    if len(question1_words) == 0 or len(question2_words) == 0:\n",
    "        return 0\n",
    "    \n",
    "    \n",
    "    shared_weights = [weights_validation.get(w, 0) for w in question1_words.keys() if w in question2_words] \n",
    "    total_weights = [weights_validation.get(w, 0) for w in question1_words] + [weights_validation.get(w, 0) for w in question2_words]\n",
    "    \n",
    "    matchability = 2*np.sum(shared_weights)/np.sum(total_weights)\n",
    "    if np.sum(total_weights)==0:\n",
    "        return 0\n",
    "    else:\n",
    "        if matchability>0.365:\n",
    "            return 1\n",
    "        else:\n",
    "            return 0\n",
    "\n",
    "for train1, test1 in kfold.split(X_train):\n",
    "    training_questions_train=X_train.iloc[train1]\n",
    "    test_set_cv=X_train.iloc[test1]\n",
    "    train_questions_validation=pd.Series(training_questions_train[\"question1\"].tolist()+training_questions_train['question2'].tolist()).astype(str)\n",
    "    train_questions_validation.str.replace('?',' ')\n",
    "    train_questions_validation.str.replace('.',' ')\n",
    "    train_questions_validation.str.replace('!',' ')\n",
    "    \n",
    "    \n",
    "    \n",
    "    word_collection_validation=(\" \".join(train_questions_validation)).lower().split()\n",
    "    counters_validation=Counter(word_collection_validation)\n",
    "    weights_validation={word: set_weights(count,3) for word, count in counters_validation.items()}\n",
    "    \n",
    "    test_match_cv=test_set_cv.apply(question_word_match_validation, axis=1, raw=True)\n",
    "    accuracy_scores.append(accuracy_score(y_train.iloc[test1], test_match_cv))\n",
    "    f1_scores.append(f1_score(y_train.iloc[test1], test_match_cv))\n",
    "    \n",
    "    print('loop one')\n",
    "    \n",
    "    \n",
    "    "
   ]
  },
  {
   "cell_type": "code",
   "execution_count": null,
   "metadata": {},
   "outputs": [],
   "source": [
    "print(\"Accuracy Mean: \"+str(sum(accuracy_scores)/n_folds))\n",
    "print(\"Accuracy Max: \"+str(max(accuracy_scores)))\n",
    "print(\"F1 Mean: \"+str(sum(f1_scores)/n_folds))\n",
    "print(\"F1 Max: \"+str(max(f1_scores)))\n"
   ]
  },
  {
   "cell_type": "code",
   "execution_count": null,
   "metadata": {},
   "outputs": [],
   "source": [
    "train_questions_testing=pd.Series(X_train[\"question1\"].tolist()+X_train['question2'].tolist()).astype(str)\n",
    "train_questions_testing.str.replace('?',' ')\n",
    "train_questions_testing.str.replace('.',' ')\n",
    "train_questions_testing.str.replace('!',' ')\n",
    "    \n",
    "    \n",
    "    \n",
    "word_collection_testing=(\" \".join(train_questions_testing)).lower().split()\n",
    "counters_testing=Counter(word_collection_testing)\n",
    "weights_validation.clear()\n",
    "weights_validation={word: set_weights(count,3) for word, count in counters_testing.items()}\n",
    "    \n",
    "test_match_cv=X_test.apply(question_word_match1, axis=1, raw=True)\n",
    "accuracy=accuracy_score(y_test, test_match_cv)\n",
    "print(accuracy)"
   ]
  },
  {
   "cell_type": "markdown",
   "metadata": {},
   "source": [
    "Train over whole dataset"
   ]
  },
  {
   "cell_type": "code",
   "execution_count": null,
   "metadata": {},
   "outputs": [],
   "source": [
    "test_duplicate=test_set.apply(question_word_match, axis=1, raw=True)\n",
    "test_duplicate_class=(test_duplicate>0.365)\n",
    "duplicateCheck = pd.DataFrame()\n",
    "duplicateCheck['test_id'] = test_set['test_id']\n",
    "duplicateCheck['is_duplicate'] = test_duplicate_class\n",
    "duplicateCheck['is_duplicate'] = duplicateCheck['is_duplicate'].astype(int)\n",
    "duplicateCheck.to_csv('test_submission.csv', index=False)"
   ]
  },
  {
   "cell_type": "code",
   "execution_count": null,
   "metadata": {},
   "outputs": [],
   "source": []
  }
 ],
 "metadata": {
  "kernelspec": {
   "display_name": "Python 3",
   "language": "python",
   "name": "python3"
  },
  "language_info": {
   "codemirror_mode": {
    "name": "ipython",
    "version": 3
   },
   "file_extension": ".py",
   "mimetype": "text/x-python",
   "name": "python",
   "nbconvert_exporter": "python",
   "pygments_lexer": "ipython3",
   "version": "3.7.4"
  }
 },
 "nbformat": 4,
 "nbformat_minor": 2
}
